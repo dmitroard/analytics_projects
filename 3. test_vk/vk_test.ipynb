{
 "cells": [
  {
   "cell_type": "markdown",
   "id": "cfc24a3e",
   "metadata": {},
   "source": [
    "# Вступительное задание на стажировку от VK\n",
    "\n",
    "#### Описание данных: \n",
    "файл с упорядоченными данными о 4 компаниях Red, Black, Green, Blue.\n",
    "\n",
    "#### Цель: \n",
    "составить выводы на основе данных. \n",
    "\n",
    "## 1. Обзор данных"
   ]
  },
  {
   "cell_type": "code",
   "execution_count": 25,
   "id": "074b7bc5",
   "metadata": {},
   "outputs": [],
   "source": [
    "import pandas as pd\n",
    "import numpy as np\n",
    "import matplotlib.pyplot as plt\n",
    "import seaborn as sns"
   ]
  },
  {
   "cell_type": "code",
   "execution_count": 26,
   "id": "324cbc4d",
   "metadata": {},
   "outputs": [],
   "source": [
    "try:\n",
    "    data = pd.read_excel('Analytic_test.xlsx', header = 1, index_col = 0)\n",
    "except:\n",
    "    data = pd.read_excel('datasets/Analytic_test.xlsx', header = 1, index_col = 0)\n",
    "pd.set_option('display.max_columns', None)"
   ]
  },
  {
   "cell_type": "code",
   "execution_count": 27,
   "id": "c34af0ff",
   "metadata": {},
   "outputs": [
    {
     "name": "stdout",
     "output_type": "stream",
     "text": [
      "(100000, 24)\n"
     ]
    },
    {
     "data": {
      "text/html": [
       "<div>\n",
       "<style scoped>\n",
       "    .dataframe tbody tr th:only-of-type {\n",
       "        vertical-align: middle;\n",
       "    }\n",
       "\n",
       "    .dataframe tbody tr th {\n",
       "        vertical-align: top;\n",
       "    }\n",
       "\n",
       "    .dataframe thead th {\n",
       "        text-align: right;\n",
       "    }\n",
       "</style>\n",
       "<table border=\"1\" class=\"dataframe\">\n",
       "  <thead>\n",
       "    <tr style=\"text-align: right;\">\n",
       "      <th></th>\n",
       "      <th>HID</th>\n",
       "      <th>active_Red</th>\n",
       "      <th>has_Green_id</th>\n",
       "      <th>has_Black_id</th>\n",
       "      <th>has_Blue_id</th>\n",
       "      <th>Blue_activity_count</th>\n",
       "      <th>Blue_gmv_total</th>\n",
       "      <th>Green_gvm_total</th>\n",
       "      <th>Green_gvm_order_count</th>\n",
       "      <th>Black_gvm_total</th>\n",
       "      <th>Black_gvm_order_count</th>\n",
       "      <th>Red_android</th>\n",
       "      <th>Green_android</th>\n",
       "      <th>Black_android</th>\n",
       "      <th>Blue_android</th>\n",
       "      <th>Red_apple</th>\n",
       "      <th>Green_apple</th>\n",
       "      <th>Black_apple</th>\n",
       "      <th>Blue_apple</th>\n",
       "      <th>is_msk</th>\n",
       "      <th>Red_web</th>\n",
       "      <th>Green_web</th>\n",
       "      <th>Black_web</th>\n",
       "      <th>Blue_web</th>\n",
       "    </tr>\n",
       "  </thead>\n",
       "  <tbody>\n",
       "    <tr>\n",
       "      <th>0</th>\n",
       "      <td>00003c7fb5e57ce673f1801f3679f5c25</td>\n",
       "      <td>0.0</td>\n",
       "      <td>0.0</td>\n",
       "      <td>0.0</td>\n",
       "      <td>1.0</td>\n",
       "      <td>2.0</td>\n",
       "      <td>0.0</td>\n",
       "      <td>0.0</td>\n",
       "      <td>0.0</td>\n",
       "      <td>0.0</td>\n",
       "      <td>0.0</td>\n",
       "      <td>0.0</td>\n",
       "      <td>0.0</td>\n",
       "      <td>0.0</td>\n",
       "      <td>0.0</td>\n",
       "      <td>0.0</td>\n",
       "      <td>0.0</td>\n",
       "      <td>0.0</td>\n",
       "      <td>0.0</td>\n",
       "      <td>0.0</td>\n",
       "      <td>0.0</td>\n",
       "      <td>0.0</td>\n",
       "      <td>0.0</td>\n",
       "      <td>0.0</td>\n",
       "    </tr>\n",
       "    <tr>\n",
       "      <th>1</th>\n",
       "      <td>00006b602533083e3bebfcbff08613931</td>\n",
       "      <td>1.0</td>\n",
       "      <td>0.0</td>\n",
       "      <td>0.0</td>\n",
       "      <td>0.0</td>\n",
       "      <td>0.0</td>\n",
       "      <td>0.0</td>\n",
       "      <td>0.0</td>\n",
       "      <td>0.0</td>\n",
       "      <td>0.0</td>\n",
       "      <td>0.0</td>\n",
       "      <td>0.0</td>\n",
       "      <td>0.0</td>\n",
       "      <td>0.0</td>\n",
       "      <td>0.0</td>\n",
       "      <td>0.0</td>\n",
       "      <td>0.0</td>\n",
       "      <td>0.0</td>\n",
       "      <td>0.0</td>\n",
       "      <td>0.0</td>\n",
       "      <td>1.0</td>\n",
       "      <td>0.0</td>\n",
       "      <td>0.0</td>\n",
       "      <td>0.0</td>\n",
       "    </tr>\n",
       "    <tr>\n",
       "      <th>2</th>\n",
       "      <td>0000736c3f76339196cb1cc759b8363b</td>\n",
       "      <td>1.0</td>\n",
       "      <td>0.0</td>\n",
       "      <td>0.0</td>\n",
       "      <td>0.0</td>\n",
       "      <td>0.0</td>\n",
       "      <td>0.0</td>\n",
       "      <td>0.0</td>\n",
       "      <td>0.0</td>\n",
       "      <td>0.0</td>\n",
       "      <td>0.0</td>\n",
       "      <td>0.0</td>\n",
       "      <td>0.0</td>\n",
       "      <td>0.0</td>\n",
       "      <td>0.0</td>\n",
       "      <td>1.0</td>\n",
       "      <td>0.0</td>\n",
       "      <td>1.0</td>\n",
       "      <td>0.0</td>\n",
       "      <td>0.0</td>\n",
       "      <td>0.0</td>\n",
       "      <td>0.0</td>\n",
       "      <td>0.0</td>\n",
       "      <td>0.0</td>\n",
       "    </tr>\n",
       "    <tr>\n",
       "      <th>3</th>\n",
       "      <td>00009bdcc5307b38efde8690b8bd658e</td>\n",
       "      <td>0.0</td>\n",
       "      <td>0.0</td>\n",
       "      <td>0.0</td>\n",
       "      <td>0.0</td>\n",
       "      <td>0.0</td>\n",
       "      <td>0.0</td>\n",
       "      <td>0.0</td>\n",
       "      <td>0.0</td>\n",
       "      <td>0.0</td>\n",
       "      <td>0.0</td>\n",
       "      <td>0.0</td>\n",
       "      <td>0.0</td>\n",
       "      <td>0.0</td>\n",
       "      <td>0.0</td>\n",
       "      <td>0.0</td>\n",
       "      <td>0.0</td>\n",
       "      <td>0.0</td>\n",
       "      <td>0.0</td>\n",
       "      <td>0.0</td>\n",
       "      <td>1.0</td>\n",
       "      <td>0.0</td>\n",
       "      <td>0.0</td>\n",
       "      <td>0.0</td>\n",
       "    </tr>\n",
       "    <tr>\n",
       "      <th>4</th>\n",
       "      <td>0000bc3186b7b31d9b35d3fbbb250b9f8</td>\n",
       "      <td>1.0</td>\n",
       "      <td>0.0</td>\n",
       "      <td>0.0</td>\n",
       "      <td>0.0</td>\n",
       "      <td>0.0</td>\n",
       "      <td>0.0</td>\n",
       "      <td>0.0</td>\n",
       "      <td>0.0</td>\n",
       "      <td>0.0</td>\n",
       "      <td>0.0</td>\n",
       "      <td>0.0</td>\n",
       "      <td>0.0</td>\n",
       "      <td>0.0</td>\n",
       "      <td>0.0</td>\n",
       "      <td>1.0</td>\n",
       "      <td>0.0</td>\n",
       "      <td>0.0</td>\n",
       "      <td>0.0</td>\n",
       "      <td>0.0</td>\n",
       "      <td>0.0</td>\n",
       "      <td>0.0</td>\n",
       "      <td>0.0</td>\n",
       "      <td>0.0</td>\n",
       "    </tr>\n",
       "  </tbody>\n",
       "</table>\n",
       "</div>"
      ],
      "text/plain": [
       "                                 HID  active_Red  has_Green_id  has_Black_id  \\\n",
       "0  00003c7fb5e57ce673f1801f3679f5c25         0.0           0.0           0.0   \n",
       "1  00006b602533083e3bebfcbff08613931         1.0           0.0           0.0   \n",
       "2   0000736c3f76339196cb1cc759b8363b         1.0           0.0           0.0   \n",
       "3   00009bdcc5307b38efde8690b8bd658e         0.0           0.0           0.0   \n",
       "4  0000bc3186b7b31d9b35d3fbbb250b9f8         1.0           0.0           0.0   \n",
       "\n",
       "   has_Blue_id Blue_activity_count  Blue_gmv_total  Green_gvm_total  \\\n",
       "0          1.0                 2.0             0.0              0.0   \n",
       "1          0.0                 0.0             0.0              0.0   \n",
       "2          0.0                 0.0             0.0              0.0   \n",
       "3          0.0                 0.0             0.0              0.0   \n",
       "4          0.0                 0.0             0.0              0.0   \n",
       "\n",
       "  Green_gvm_order_count  Black_gvm_total Black_gvm_order_count  Red_android  \\\n",
       "0                   0.0              0.0                   0.0          0.0   \n",
       "1                   0.0              0.0                   0.0          0.0   \n",
       "2                   0.0              0.0                   0.0          0.0   \n",
       "3                   0.0              0.0                   0.0          0.0   \n",
       "4                   0.0              0.0                   0.0          0.0   \n",
       "\n",
       "   Green_android  Black_android  Blue_android  Red_apple  Green_apple  \\\n",
       "0            0.0            0.0           0.0        0.0          0.0   \n",
       "1            0.0            0.0           0.0        0.0          0.0   \n",
       "2            0.0            0.0           0.0        1.0          0.0   \n",
       "3            0.0            0.0           0.0        0.0          0.0   \n",
       "4            0.0            0.0           0.0        1.0          0.0   \n",
       "\n",
       "   Black_apple  Blue_apple  is_msk  Red_web  Green_web  Black_web  Blue_web  \n",
       "0          0.0         0.0     0.0      0.0        0.0        0.0       0.0  \n",
       "1          0.0         0.0     0.0      1.0        0.0        0.0       0.0  \n",
       "2          1.0         0.0     0.0      0.0        0.0        0.0       0.0  \n",
       "3          0.0         0.0     0.0      1.0        0.0        0.0       0.0  \n",
       "4          0.0         0.0     0.0      0.0        0.0        0.0       0.0  "
      ]
     },
     "execution_count": 27,
     "metadata": {},
     "output_type": "execute_result"
    }
   ],
   "source": [
    "print(data.shape)\n",
    "data.head()"
   ]
  },
  {
   "cell_type": "markdown",
   "id": "de34abbf",
   "metadata": {},
   "source": [
    "`HID` - зашифрованный персональный индефикатор пользователя компании\\\n",
    "`has_company_id` - наличие зарегистрированного аккаунта в компании\\\n",
    "`company_gmv_total` - суммарный gmv пользователя в сервисе\\\n",
    "`company_gvm_order_count` - кол-во успешных заказов пользователя в сервисе\\\n",
    "`company_android` - установленное у пользователя приложение компании на платформе android\\\n",
    "`company_apple` - установленное у пользователя приложение компании на платформе apple\\\n",
    "`company_web` - установленное у пользователя приложение компании на ПК\\\n",
    "`is_msk` - территориальное расположение в Москве"
   ]
  },
  {
   "cell_type": "code",
   "execution_count": 28,
   "id": "a4818042",
   "metadata": {},
   "outputs": [
    {
     "data": {
      "text/plain": [
       "Index(['Black_android', 'Black_apple', 'Black_gvm_order_count',\n",
       "       'Black_gvm_total', 'Black_web', 'Blue_activity_count', 'Blue_android',\n",
       "       'Blue_apple', 'Blue_gmv_total', 'Blue_web', 'Green_android',\n",
       "       'Green_apple', 'Green_gvm_order_count', 'Green_gvm_total', 'Green_web',\n",
       "       'HID', 'Red_android', 'Red_apple', 'Red_web', 'active_Red',\n",
       "       'has_Black_id', 'has_Blue_id', 'has_Green_id', 'is_msk'],\n",
       "      dtype='object')"
      ]
     },
     "execution_count": 28,
     "metadata": {},
     "output_type": "execute_result"
    }
   ],
   "source": [
    "data.columns.sort_values()"
   ]
  },
  {
   "cell_type": "markdown",
   "id": "cd89ad96",
   "metadata": {},
   "source": [
    "Неизвестные столбцы:\\\n",
    "`Blue_activity_count`, `active_Red`\n",
    "\n",
    "Нехватает столбцов:\n",
    "1. `Blue_gvm_order_count`- можно предположить, что это столбец `Blue_activity_count`, требует уточнения\n",
    "2. `has_Red_id` - можно предположить, что это столбец `active_Red`, требует уточнения\n",
    "3. `Red_gmv_total` - скорее всего ошибка данных, требует уточнения\n",
    "4. `Red_gvm_order_count` - скорее всего ошибка данных, требует уточнения"
   ]
  },
  {
   "cell_type": "markdown",
   "id": "ad2703be",
   "metadata": {},
   "source": [
    "# 2. Предобработка данных\n",
    "\n",
    "#### 2.1 Изучим явные дубликаты"
   ]
  },
  {
   "cell_type": "code",
   "execution_count": 29,
   "id": "177a314b",
   "metadata": {},
   "outputs": [
    {
     "data": {
      "text/plain": [
       "0"
      ]
     },
     "execution_count": 29,
     "metadata": {},
     "output_type": "execute_result"
    }
   ],
   "source": [
    "data.duplicated().sum()"
   ]
  },
  {
   "cell_type": "markdown",
   "id": "06073ccc",
   "metadata": {},
   "source": [
    "Явные дубликаты отсутствуют. К неявным вернемся позднее.\n",
    "\n",
    "#### 2.2 Обработем пропуски"
   ]
  },
  {
   "cell_type": "code",
   "execution_count": 30,
   "id": "92fd6ec5",
   "metadata": {},
   "outputs": [
    {
     "data": {
      "text/plain": [
       "(100000, 24)"
      ]
     },
     "metadata": {},
     "output_type": "display_data"
    },
    {
     "data": {
      "text/plain": [
       "HID                      0\n",
       "active_Red               0\n",
       "has_Green_id             0\n",
       "has_Black_id             0\n",
       "has_Blue_id              0\n",
       "Blue_activity_count      0\n",
       "Blue_gmv_total           1\n",
       "Green_gvm_total          0\n",
       "Green_gvm_order_count    0\n",
       "Black_gvm_total          0\n",
       "Black_gvm_order_count    0\n",
       "Red_android              0\n",
       "Green_android            0\n",
       "Black_android            0\n",
       "Blue_android             0\n",
       "Red_apple                0\n",
       "Green_apple              0\n",
       "Black_apple              0\n",
       "Blue_apple               0\n",
       "is_msk                   0\n",
       "Red_web                  0\n",
       "Green_web                0\n",
       "Black_web                0\n",
       "Blue_web                 0\n",
       "dtype: int64"
      ]
     },
     "execution_count": 30,
     "metadata": {},
     "output_type": "execute_result"
    }
   ],
   "source": [
    "display(data.shape)\n",
    "data.isna().sum()"
   ]
  },
  {
   "cell_type": "markdown",
   "id": "20f8de97",
   "metadata": {},
   "source": [
    "Посмотрим что это за строка."
   ]
  },
  {
   "cell_type": "code",
   "execution_count": 31,
   "id": "62709123",
   "metadata": {},
   "outputs": [
    {
     "data": {
      "text/html": [
       "<div>\n",
       "<style scoped>\n",
       "    .dataframe tbody tr th:only-of-type {\n",
       "        vertical-align: middle;\n",
       "    }\n",
       "\n",
       "    .dataframe tbody tr th {\n",
       "        vertical-align: top;\n",
       "    }\n",
       "\n",
       "    .dataframe thead th {\n",
       "        text-align: right;\n",
       "    }\n",
       "</style>\n",
       "<table border=\"1\" class=\"dataframe\">\n",
       "  <thead>\n",
       "    <tr style=\"text-align: right;\">\n",
       "      <th></th>\n",
       "      <th>HID</th>\n",
       "      <th>active_Red</th>\n",
       "      <th>has_Green_id</th>\n",
       "      <th>has_Black_id</th>\n",
       "      <th>has_Blue_id</th>\n",
       "      <th>Blue_activity_count</th>\n",
       "      <th>Blue_gmv_total</th>\n",
       "      <th>Green_gvm_total</th>\n",
       "      <th>Green_gvm_order_count</th>\n",
       "      <th>Black_gvm_total</th>\n",
       "      <th>Black_gvm_order_count</th>\n",
       "      <th>Red_android</th>\n",
       "      <th>Green_android</th>\n",
       "      <th>Black_android</th>\n",
       "      <th>Blue_android</th>\n",
       "      <th>Red_apple</th>\n",
       "      <th>Green_apple</th>\n",
       "      <th>Black_apple</th>\n",
       "      <th>Blue_apple</th>\n",
       "      <th>is_msk</th>\n",
       "      <th>Red_web</th>\n",
       "      <th>Green_web</th>\n",
       "      <th>Black_web</th>\n",
       "      <th>Blue_web</th>\n",
       "    </tr>\n",
       "  </thead>\n",
       "  <tbody>\n",
       "    <tr>\n",
       "      <th>68383</th>\n",
       "      <td>18f2525eb8c1bbb35625163925171fb63cbb</td>\n",
       "      <td>0.0</td>\n",
       "      <td>1.0</td>\n",
       "      <td>0.0</td>\n",
       "      <td>3.0</td>\n",
       "      <td>4.0</td>\n",
       "      <td>NaN</td>\n",
       "      <td>820.0</td>\n",
       "      <td>1.0</td>\n",
       "      <td>0.0</td>\n",
       "      <td>0.0</td>\n",
       "      <td>0.0</td>\n",
       "      <td>0.0</td>\n",
       "      <td>0.0</td>\n",
       "      <td>0.0</td>\n",
       "      <td>0.0</td>\n",
       "      <td>0.0</td>\n",
       "      <td>0.0</td>\n",
       "      <td>0.0</td>\n",
       "      <td>1.0</td>\n",
       "      <td>0.0</td>\n",
       "      <td>0.0</td>\n",
       "      <td>0.0</td>\n",
       "      <td>0.0</td>\n",
       "    </tr>\n",
       "  </tbody>\n",
       "</table>\n",
       "</div>"
      ],
      "text/plain": [
       "                                        HID  active_Red  has_Green_id  \\\n",
       "68383  18f2525eb8c1bbb35625163925171fb63cbb         0.0           1.0   \n",
       "\n",
       "       has_Black_id  has_Blue_id Blue_activity_count  Blue_gmv_total  \\\n",
       "68383           0.0          3.0                 4.0             NaN   \n",
       "\n",
       "       Green_gvm_total Green_gvm_order_count  Black_gvm_total  \\\n",
       "68383            820.0                   1.0              0.0   \n",
       "\n",
       "      Black_gvm_order_count  Red_android  Green_android  Black_android  \\\n",
       "68383                   0.0          0.0            0.0            0.0   \n",
       "\n",
       "       Blue_android  Red_apple  Green_apple  Black_apple  Blue_apple  is_msk  \\\n",
       "68383           0.0        0.0          0.0          0.0         0.0     1.0   \n",
       "\n",
       "       Red_web  Green_web  Black_web  Blue_web  \n",
       "68383      0.0        0.0        0.0       0.0  "
      ]
     },
     "execution_count": 31,
     "metadata": {},
     "output_type": "execute_result"
    }
   ],
   "source": [
    "data[pd.isnull(data).any(axis=1)]"
   ]
  },
  {
   "cell_type": "markdown",
   "id": "25b7daef",
   "metadata": {},
   "source": [
    "Удалим эту строку, а `HID` передадим, чтоб разобрались."
   ]
  },
  {
   "cell_type": "code",
   "execution_count": 32,
   "id": "890cb1ab",
   "metadata": {},
   "outputs": [],
   "source": [
    "data = data.dropna(subset = 'Blue_gmv_total')"
   ]
  },
  {
   "cell_type": "markdown",
   "id": "e5299966",
   "metadata": {},
   "source": [
    "#### 2.3 Приведение данных к правильным типам"
   ]
  },
  {
   "cell_type": "code",
   "execution_count": 33,
   "id": "9a613626",
   "metadata": {},
   "outputs": [
    {
     "data": {
      "text/plain": [
       "HID                       object\n",
       "active_Red               float64\n",
       "has_Green_id             float64\n",
       "has_Black_id             float64\n",
       "has_Blue_id              float64\n",
       "Blue_activity_count       object\n",
       "Blue_gmv_total           float64\n",
       "Green_gvm_total          float64\n",
       "Green_gvm_order_count     object\n",
       "Black_gvm_total          float64\n",
       "Black_gvm_order_count     object\n",
       "Red_android              float64\n",
       "Green_android            float64\n",
       "Black_android            float64\n",
       "Blue_android             float64\n",
       "Red_apple                float64\n",
       "Green_apple              float64\n",
       "Black_apple              float64\n",
       "Blue_apple               float64\n",
       "is_msk                   float64\n",
       "Red_web                  float64\n",
       "Green_web                float64\n",
       "Black_web                float64\n",
       "Blue_web                 float64\n",
       "dtype: object"
      ]
     },
     "execution_count": 33,
     "metadata": {},
     "output_type": "execute_result"
    }
   ],
   "source": [
    "data.dtypes"
   ]
  },
  {
   "cell_type": "code",
   "execution_count": 34,
   "id": "aa994326",
   "metadata": {},
   "outputs": [
    {
     "name": "stdout",
     "output_type": "stream",
     "text": [
      "Кол-во уникальных значений столбца Black_android 2\n",
      "Кол-во уникальных значений столбца Black_apple 2\n",
      "Кол-во уникальных значений столбца Black_gvm_order_count 39\n",
      "Кол-во уникальных значений столбца Black_gvm_total 913\n",
      "Кол-во уникальных значений столбца Black_web 2\n",
      "Кол-во уникальных значений столбца Blue_activity_count 69\n",
      "Кол-во уникальных значений столбца Blue_android 2\n",
      "Кол-во уникальных значений столбца Blue_apple 2\n",
      "Кол-во уникальных значений столбца Blue_gmv_total 243\n",
      "Кол-во уникальных значений столбца Blue_web 2\n",
      "Кол-во уникальных значений столбца Green_android 2\n",
      "Кол-во уникальных значений столбца Green_apple 2\n",
      "Кол-во уникальных значений столбца Green_gvm_order_count 71\n",
      "Кол-во уникальных значений столбца Green_gvm_total 682\n",
      "Кол-во уникальных значений столбца Green_web 2\n",
      "Кол-во уникальных значений столбца HID 99999\n",
      "Кол-во уникальных значений столбца Red_android 2\n",
      "Кол-во уникальных значений столбца Red_apple 2\n",
      "Кол-во уникальных значений столбца Red_web 2\n",
      "Кол-во уникальных значений столбца active_Red 2\n",
      "Кол-во уникальных значений столбца has_Black_id 3\n",
      "Кол-во уникальных значений столбца has_Blue_id 5\n",
      "Кол-во уникальных значений столбца has_Green_id 3\n",
      "Кол-во уникальных значений столбца is_msk 2\n"
     ]
    }
   ],
   "source": [
    "for name in data.columns.sort_values():\n",
    "    print(\"Кол-во уникальных значений столбца\", name, len(data[name].unique()))"
   ]
  },
  {
   "cell_type": "markdown",
   "id": "d98baa1d",
   "metadata": {},
   "source": [
    "Заметим, что `has_Black_id`, `has_Blue_id`, `has_Green_id` имеет странное кол-во уникальных значений, т.к. значения должны быть только 1 или 0. Скорее всего это ошибка и значение не равные 0, должны быть 1. Проверим эти значения."
   ]
  },
  {
   "cell_type": "code",
   "execution_count": 35,
   "id": "0396804d",
   "metadata": {},
   "outputs": [
    {
     "data": {
      "text/plain": [
       "0.0    98920\n",
       "1.0     1074\n",
       "2.0        5\n",
       "Name: has_Black_id, dtype: int64"
      ]
     },
     "execution_count": 35,
     "metadata": {},
     "output_type": "execute_result"
    }
   ],
   "source": [
    "data['has_Black_id'].value_counts()"
   ]
  },
  {
   "cell_type": "code",
   "execution_count": 36,
   "id": "cbb41c71",
   "metadata": {},
   "outputs": [
    {
     "data": {
      "text/plain": [
       "0.0    86734\n",
       "1.0    12749\n",
       "2.0      501\n",
       "3.0       13\n",
       "4.0        2\n",
       "Name: has_Blue_id, dtype: int64"
      ]
     },
     "execution_count": 36,
     "metadata": {},
     "output_type": "execute_result"
    }
   ],
   "source": [
    "data['has_Blue_id'].value_counts()"
   ]
  },
  {
   "cell_type": "code",
   "execution_count": 37,
   "id": "9fff91d9",
   "metadata": {},
   "outputs": [
    {
     "data": {
      "text/plain": [
       "0.0    99114\n",
       "1.0      881\n",
       "2.0        4\n",
       "Name: has_Green_id, dtype: int64"
      ]
     },
     "execution_count": 37,
     "metadata": {},
     "output_type": "execute_result"
    }
   ],
   "source": [
    "data['has_Green_id'].value_counts()"
   ]
  },
  {
   "cell_type": "markdown",
   "id": "cb74bb51",
   "metadata": {},
   "source": [
    "Чтоб исправить это заменим тип строк на `bool`, тогда все значения > 0 заменятся на True. Также изменим тип строк android. apple, web на `bool`."
   ]
  },
  {
   "cell_type": "code",
   "execution_count": 38,
   "id": "57f46144",
   "metadata": {},
   "outputs": [],
   "source": [
    "data['has_Green_id'] = data['has_Green_id'].astype('bool')\n",
    "data['has_Blue_id'] = data['has_Blue_id'].astype('bool')\n",
    "data['has_Black_id'] = data['has_Black_id'].astype('bool')\n",
    "\n",
    "company = ['Blue', 'Green', 'Black', 'Red']\n",
    "for c in company:\n",
    "    filt = [f'{c}_android', f'{c}_apple', f'{c}_web']\n",
    "    for f in filt:\n",
    "        data[f] = data[f].astype('bool')"
   ]
  },
  {
   "cell_type": "code",
   "execution_count": 39,
   "id": "2f3239d5",
   "metadata": {},
   "outputs": [
    {
     "name": "stdout",
     "output_type": "stream",
     "text": [
      "False    98920\n",
      "True      1079\n",
      "Name: has_Black_id, dtype: int64 \n",
      "\n",
      "False    86734\n",
      "True     13265\n",
      "Name: has_Blue_id, dtype: int64\n"
     ]
    },
    {
     "data": {
      "text/plain": [
       "False    99114\n",
       "True       885\n",
       "Name: has_Green_id, dtype: int64"
      ]
     },
     "execution_count": 39,
     "metadata": {},
     "output_type": "execute_result"
    }
   ],
   "source": [
    "print(data['has_Black_id'].value_counts(), '\\n')\n",
    "print(data['has_Blue_id'].value_counts())\n",
    "data['has_Green_id'].value_counts()"
   ]
  },
  {
   "cell_type": "markdown",
   "id": "79ed9557",
   "metadata": {},
   "source": [
    "Теперь разберемся с `Blue_activity_count`, `Black_gvm_order_count`, `Green_gvm_order_count`. Попробуем изменить их тип на numeric, если не получится, подронее рассмотрим данные."
   ]
  },
  {
   "cell_type": "code",
   "execution_count": 40,
   "id": "fbc6e1ee",
   "metadata": {},
   "outputs": [
    {
     "ename": "TypeError",
     "evalue": "Invalid object type at position 5745",
     "output_type": "error",
     "traceback": [
      "\u001b[1;31m---------------------------------------------------------------------------\u001b[0m",
      "\u001b[1;31mTypeError\u001b[0m                                 Traceback (most recent call last)",
      "File \u001b[1;32m~\\AppData\\Roaming\\Python\\Python310\\site-packages\\pandas\\_libs\\lib.pyx:2363\u001b[0m, in \u001b[0;36mpandas._libs.lib.maybe_convert_numeric\u001b[1;34m()\u001b[0m\n",
      "\u001b[1;31mTypeError\u001b[0m: Invalid object type",
      "\nDuring handling of the above exception, another exception occurred:\n",
      "\u001b[1;31mTypeError\u001b[0m                                 Traceback (most recent call last)",
      "Cell \u001b[1;32mIn [40], line 1\u001b[0m\n\u001b[1;32m----> 1\u001b[0m data[\u001b[38;5;124m'\u001b[39m\u001b[38;5;124mBlue_activity_count\u001b[39m\u001b[38;5;124m'\u001b[39m] \u001b[38;5;241m=\u001b[39m \u001b[43mpd\u001b[49m\u001b[38;5;241;43m.\u001b[39;49m\u001b[43mto_numeric\u001b[49m\u001b[43m(\u001b[49m\u001b[43mdata\u001b[49m\u001b[43m[\u001b[49m\u001b[38;5;124;43m'\u001b[39;49m\u001b[38;5;124;43mBlue_activity_count\u001b[39;49m\u001b[38;5;124;43m'\u001b[39;49m\u001b[43m]\u001b[49m\u001b[43m)\u001b[49m\n\u001b[0;32m      2\u001b[0m data[\u001b[38;5;124m'\u001b[39m\u001b[38;5;124mBlue_activity_count\u001b[39m\u001b[38;5;124m'\u001b[39m] \u001b[38;5;241m=\u001b[39m pd\u001b[38;5;241m.\u001b[39mto_numeric(data[\u001b[38;5;124m'\u001b[39m\u001b[38;5;124mBlack_gvm_order_count\u001b[39m\u001b[38;5;124m'\u001b[39m])\n\u001b[0;32m      3\u001b[0m data[\u001b[38;5;124m'\u001b[39m\u001b[38;5;124mBlue_activity_count\u001b[39m\u001b[38;5;124m'\u001b[39m] \u001b[38;5;241m=\u001b[39m pd\u001b[38;5;241m.\u001b[39mto_numeric(data[\u001b[38;5;124m'\u001b[39m\u001b[38;5;124mGreen_gvm_order_count\u001b[39m\u001b[38;5;124m'\u001b[39m])\n",
      "File \u001b[1;32m~\\AppData\\Roaming\\Python\\Python310\\site-packages\\pandas\\core\\tools\\numeric.py:185\u001b[0m, in \u001b[0;36mto_numeric\u001b[1;34m(arg, errors, downcast)\u001b[0m\n\u001b[0;32m    183\u001b[0m coerce_numeric \u001b[38;5;241m=\u001b[39m errors \u001b[38;5;129;01mnot\u001b[39;00m \u001b[38;5;129;01min\u001b[39;00m (\u001b[38;5;124m\"\u001b[39m\u001b[38;5;124mignore\u001b[39m\u001b[38;5;124m\"\u001b[39m, \u001b[38;5;124m\"\u001b[39m\u001b[38;5;124mraise\u001b[39m\u001b[38;5;124m\"\u001b[39m)\n\u001b[0;32m    184\u001b[0m \u001b[38;5;28;01mtry\u001b[39;00m:\n\u001b[1;32m--> 185\u001b[0m     values, _ \u001b[38;5;241m=\u001b[39m \u001b[43mlib\u001b[49m\u001b[38;5;241;43m.\u001b[39;49m\u001b[43mmaybe_convert_numeric\u001b[49m\u001b[43m(\u001b[49m\n\u001b[0;32m    186\u001b[0m \u001b[43m        \u001b[49m\u001b[43mvalues\u001b[49m\u001b[43m,\u001b[49m\u001b[43m \u001b[49m\u001b[38;5;28;43mset\u001b[39;49m\u001b[43m(\u001b[49m\u001b[43m)\u001b[49m\u001b[43m,\u001b[49m\u001b[43m \u001b[49m\u001b[43mcoerce_numeric\u001b[49m\u001b[38;5;241;43m=\u001b[39;49m\u001b[43mcoerce_numeric\u001b[49m\n\u001b[0;32m    187\u001b[0m \u001b[43m    \u001b[49m\u001b[43m)\u001b[49m\n\u001b[0;32m    188\u001b[0m \u001b[38;5;28;01mexcept\u001b[39;00m (\u001b[38;5;167;01mValueError\u001b[39;00m, \u001b[38;5;167;01mTypeError\u001b[39;00m):\n\u001b[0;32m    189\u001b[0m     \u001b[38;5;28;01mif\u001b[39;00m errors \u001b[38;5;241m==\u001b[39m \u001b[38;5;124m\"\u001b[39m\u001b[38;5;124mraise\u001b[39m\u001b[38;5;124m\"\u001b[39m:\n",
      "File \u001b[1;32m~\\AppData\\Roaming\\Python\\Python310\\site-packages\\pandas\\_libs\\lib.pyx:2405\u001b[0m, in \u001b[0;36mpandas._libs.lib.maybe_convert_numeric\u001b[1;34m()\u001b[0m\n",
      "\u001b[1;31mTypeError\u001b[0m: Invalid object type at position 5745"
     ]
    }
   ],
   "source": [
    "data['Blue_activity_count'] = pd.to_numeric(data['Blue_activity_count'])\n",
    "data['Blue_activity_count'] = pd.to_numeric(data['Black_gvm_order_count'])\n",
    "data['Blue_activity_count'] = pd.to_numeric(data['Green_gvm_order_count'])"
   ]
  },
  {
   "cell_type": "markdown",
   "id": "4abd2c64",
   "metadata": {},
   "source": [
    "Получили ошибку. Давайте найдем значения которые не являются числами, а перед этим посмотрим строку, где произошла ошибка."
   ]
  },
  {
   "cell_type": "code",
   "execution_count": 41,
   "id": "4b3f5516",
   "metadata": {},
   "outputs": [
    {
     "data": {
      "text/plain": [
       "datetime.datetime(2019, 5, 4, 0, 0)"
      ]
     },
     "execution_count": 41,
     "metadata": {},
     "output_type": "execute_result"
    }
   ],
   "source": [
    "data['Blue_activity_count'][5745]"
   ]
  },
  {
   "cell_type": "markdown",
   "id": "f3de453a",
   "metadata": {},
   "source": [
    "В столбце с кол-вом оказалась дата, придется удалить такие строки."
   ]
  },
  {
   "cell_type": "code",
   "execution_count": 42,
   "id": "1d0ea57f",
   "metadata": {},
   "outputs": [
    {
     "data": {
      "text/html": [
       "<div>\n",
       "<style scoped>\n",
       "    .dataframe tbody tr th:only-of-type {\n",
       "        vertical-align: middle;\n",
       "    }\n",
       "\n",
       "    .dataframe tbody tr th {\n",
       "        vertical-align: top;\n",
       "    }\n",
       "\n",
       "    .dataframe thead th {\n",
       "        text-align: right;\n",
       "    }\n",
       "</style>\n",
       "<table border=\"1\" class=\"dataframe\">\n",
       "  <thead>\n",
       "    <tr style=\"text-align: right;\">\n",
       "      <th></th>\n",
       "      <th>HID</th>\n",
       "      <th>active_Red</th>\n",
       "      <th>has_Green_id</th>\n",
       "      <th>has_Black_id</th>\n",
       "      <th>has_Blue_id</th>\n",
       "      <th>Blue_activity_count</th>\n",
       "      <th>Blue_gmv_total</th>\n",
       "      <th>Green_gvm_total</th>\n",
       "      <th>Green_gvm_order_count</th>\n",
       "      <th>Black_gvm_total</th>\n",
       "      <th>Black_gvm_order_count</th>\n",
       "      <th>Red_android</th>\n",
       "      <th>Green_android</th>\n",
       "      <th>Black_android</th>\n",
       "      <th>Blue_android</th>\n",
       "      <th>Red_apple</th>\n",
       "      <th>Green_apple</th>\n",
       "      <th>Black_apple</th>\n",
       "      <th>Blue_apple</th>\n",
       "      <th>is_msk</th>\n",
       "      <th>Red_web</th>\n",
       "      <th>Green_web</th>\n",
       "      <th>Black_web</th>\n",
       "      <th>Blue_web</th>\n",
       "    </tr>\n",
       "  </thead>\n",
       "  <tbody>\n",
       "    <tr>\n",
       "      <th>5745</th>\n",
       "      <td>0313e93de96d53257cbf2581d350f3d63b</td>\n",
       "      <td>1.0</td>\n",
       "      <td>False</td>\n",
       "      <td>False</td>\n",
       "      <td>True</td>\n",
       "      <td>2019-05-04 00:00:00</td>\n",
       "      <td>0.0</td>\n",
       "      <td>0.0</td>\n",
       "      <td>0.0</td>\n",
       "      <td>0.0</td>\n",
       "      <td>0.0</td>\n",
       "      <td>False</td>\n",
       "      <td>False</td>\n",
       "      <td>False</td>\n",
       "      <td>False</td>\n",
       "      <td>False</td>\n",
       "      <td>False</td>\n",
       "      <td>False</td>\n",
       "      <td>False</td>\n",
       "      <td>0.0</td>\n",
       "      <td>True</td>\n",
       "      <td>False</td>\n",
       "      <td>False</td>\n",
       "      <td>True</td>\n",
       "    </tr>\n",
       "    <tr>\n",
       "      <th>12746</th>\n",
       "      <td>0259fecee07db3bb0d936b9c25cbbbd81f</td>\n",
       "      <td>1.0</td>\n",
       "      <td>False</td>\n",
       "      <td>False</td>\n",
       "      <td>True</td>\n",
       "      <td>2019-05-07 00:00:00</td>\n",
       "      <td>0.0</td>\n",
       "      <td>0.0</td>\n",
       "      <td>0.0</td>\n",
       "      <td>0.0</td>\n",
       "      <td>0.0</td>\n",
       "      <td>True</td>\n",
       "      <td>False</td>\n",
       "      <td>False</td>\n",
       "      <td>True</td>\n",
       "      <td>False</td>\n",
       "      <td>False</td>\n",
       "      <td>False</td>\n",
       "      <td>False</td>\n",
       "      <td>1.0</td>\n",
       "      <td>True</td>\n",
       "      <td>False</td>\n",
       "      <td>False</td>\n",
       "      <td>True</td>\n",
       "    </tr>\n",
       "    <tr>\n",
       "      <th>27359</th>\n",
       "      <td>0b00f9d33e05f9255631725b5dfbb60fe5</td>\n",
       "      <td>0.0</td>\n",
       "      <td>False</td>\n",
       "      <td>False</td>\n",
       "      <td>True</td>\n",
       "      <td>2019-05-01 00:00:00</td>\n",
       "      <td>0.0</td>\n",
       "      <td>0.0</td>\n",
       "      <td>0.0</td>\n",
       "      <td>0.0</td>\n",
       "      <td>0.0</td>\n",
       "      <td>True</td>\n",
       "      <td>False</td>\n",
       "      <td>False</td>\n",
       "      <td>False</td>\n",
       "      <td>False</td>\n",
       "      <td>False</td>\n",
       "      <td>False</td>\n",
       "      <td>False</td>\n",
       "      <td>0.0</td>\n",
       "      <td>True</td>\n",
       "      <td>False</td>\n",
       "      <td>False</td>\n",
       "      <td>True</td>\n",
       "    </tr>\n",
       "    <tr>\n",
       "      <th>86828</th>\n",
       "      <td>1fb3718325df253c25093bd70d60e657e025</td>\n",
       "      <td>1.0</td>\n",
       "      <td>False</td>\n",
       "      <td>False</td>\n",
       "      <td>True</td>\n",
       "      <td>2019-05-01 00:00:00</td>\n",
       "      <td>0.0</td>\n",
       "      <td>0.0</td>\n",
       "      <td>0.0</td>\n",
       "      <td>0.0</td>\n",
       "      <td>0.0</td>\n",
       "      <td>True</td>\n",
       "      <td>False</td>\n",
       "      <td>False</td>\n",
       "      <td>True</td>\n",
       "      <td>True</td>\n",
       "      <td>False</td>\n",
       "      <td>False</td>\n",
       "      <td>True</td>\n",
       "      <td>0.0</td>\n",
       "      <td>True</td>\n",
       "      <td>False</td>\n",
       "      <td>False</td>\n",
       "      <td>False</td>\n",
       "    </tr>\n",
       "    <tr>\n",
       "      <th>92309</th>\n",
       "      <td>319bb39259580c39d3780b61830f1315c</td>\n",
       "      <td>1.0</td>\n",
       "      <td>False</td>\n",
       "      <td>False</td>\n",
       "      <td>True</td>\n",
       "      <td>2019-05-03 00:00:00</td>\n",
       "      <td>0.0</td>\n",
       "      <td>0.0</td>\n",
       "      <td>0.0</td>\n",
       "      <td>0.0</td>\n",
       "      <td>0.0</td>\n",
       "      <td>False</td>\n",
       "      <td>False</td>\n",
       "      <td>False</td>\n",
       "      <td>False</td>\n",
       "      <td>False</td>\n",
       "      <td>False</td>\n",
       "      <td>False</td>\n",
       "      <td>False</td>\n",
       "      <td>0.0</td>\n",
       "      <td>True</td>\n",
       "      <td>False</td>\n",
       "      <td>False</td>\n",
       "      <td>True</td>\n",
       "    </tr>\n",
       "    <tr>\n",
       "      <th>92396</th>\n",
       "      <td>31b255f0253c1d6ddbfdb3f305edc73dc0</td>\n",
       "      <td>1.0</td>\n",
       "      <td>False</td>\n",
       "      <td>False</td>\n",
       "      <td>True</td>\n",
       "      <td>2019-05-01 00:00:00</td>\n",
       "      <td>0.0</td>\n",
       "      <td>0.0</td>\n",
       "      <td>0.0</td>\n",
       "      <td>0.0</td>\n",
       "      <td>0.0</td>\n",
       "      <td>False</td>\n",
       "      <td>False</td>\n",
       "      <td>False</td>\n",
       "      <td>False</td>\n",
       "      <td>False</td>\n",
       "      <td>False</td>\n",
       "      <td>False</td>\n",
       "      <td>False</td>\n",
       "      <td>0.0</td>\n",
       "      <td>True</td>\n",
       "      <td>False</td>\n",
       "      <td>False</td>\n",
       "      <td>True</td>\n",
       "    </tr>\n",
       "    <tr>\n",
       "      <th>92449</th>\n",
       "      <td>31b97b0825bf1b53de9253bd3259025353bb</td>\n",
       "      <td>1.0</td>\n",
       "      <td>False</td>\n",
       "      <td>False</td>\n",
       "      <td>True</td>\n",
       "      <td>2019-05-06 00:00:00</td>\n",
       "      <td>0.0</td>\n",
       "      <td>0.0</td>\n",
       "      <td>0.0</td>\n",
       "      <td>0.0</td>\n",
       "      <td>0.0</td>\n",
       "      <td>True</td>\n",
       "      <td>False</td>\n",
       "      <td>False</td>\n",
       "      <td>True</td>\n",
       "      <td>False</td>\n",
       "      <td>False</td>\n",
       "      <td>False</td>\n",
       "      <td>False</td>\n",
       "      <td>0.0</td>\n",
       "      <td>True</td>\n",
       "      <td>False</td>\n",
       "      <td>False</td>\n",
       "      <td>False</td>\n",
       "    </tr>\n",
       "  </tbody>\n",
       "</table>\n",
       "</div>"
      ],
      "text/plain": [
       "                                        HID  active_Red  has_Green_id  \\\n",
       "5745     0313e93de96d53257cbf2581d350f3d63b         1.0         False   \n",
       "12746    0259fecee07db3bb0d936b9c25cbbbd81f         1.0         False   \n",
       "27359    0b00f9d33e05f9255631725b5dfbb60fe5         0.0         False   \n",
       "86828  1fb3718325df253c25093bd70d60e657e025         1.0         False   \n",
       "92309     319bb39259580c39d3780b61830f1315c         1.0         False   \n",
       "92396    31b255f0253c1d6ddbfdb3f305edc73dc0         1.0         False   \n",
       "92449  31b97b0825bf1b53de9253bd3259025353bb         1.0         False   \n",
       "\n",
       "       has_Black_id  has_Blue_id  Blue_activity_count  Blue_gmv_total  \\\n",
       "5745          False         True  2019-05-04 00:00:00             0.0   \n",
       "12746         False         True  2019-05-07 00:00:00             0.0   \n",
       "27359         False         True  2019-05-01 00:00:00             0.0   \n",
       "86828         False         True  2019-05-01 00:00:00             0.0   \n",
       "92309         False         True  2019-05-03 00:00:00             0.0   \n",
       "92396         False         True  2019-05-01 00:00:00             0.0   \n",
       "92449         False         True  2019-05-06 00:00:00             0.0   \n",
       "\n",
       "       Green_gvm_total Green_gvm_order_count  Black_gvm_total  \\\n",
       "5745               0.0                   0.0              0.0   \n",
       "12746              0.0                   0.0              0.0   \n",
       "27359              0.0                   0.0              0.0   \n",
       "86828              0.0                   0.0              0.0   \n",
       "92309              0.0                   0.0              0.0   \n",
       "92396              0.0                   0.0              0.0   \n",
       "92449              0.0                   0.0              0.0   \n",
       "\n",
       "      Black_gvm_order_count  Red_android  Green_android  Black_android  \\\n",
       "5745                    0.0        False          False          False   \n",
       "12746                   0.0         True          False          False   \n",
       "27359                   0.0         True          False          False   \n",
       "86828                   0.0         True          False          False   \n",
       "92309                   0.0        False          False          False   \n",
       "92396                   0.0        False          False          False   \n",
       "92449                   0.0         True          False          False   \n",
       "\n",
       "       Blue_android  Red_apple  Green_apple  Black_apple  Blue_apple  is_msk  \\\n",
       "5745          False      False        False        False       False     0.0   \n",
       "12746          True      False        False        False       False     1.0   \n",
       "27359         False      False        False        False       False     0.0   \n",
       "86828          True       True        False        False        True     0.0   \n",
       "92309         False      False        False        False       False     0.0   \n",
       "92396         False      False        False        False       False     0.0   \n",
       "92449          True      False        False        False       False     0.0   \n",
       "\n",
       "       Red_web  Green_web  Black_web  Blue_web  \n",
       "5745      True      False      False      True  \n",
       "12746     True      False      False      True  \n",
       "27359     True      False      False      True  \n",
       "86828     True      False      False     False  \n",
       "92309     True      False      False      True  \n",
       "92396     True      False      False      True  \n",
       "92449     True      False      False     False  "
      ]
     },
     "execution_count": 42,
     "metadata": {},
     "output_type": "execute_result"
    }
   ],
   "source": [
    "data[data['Blue_activity_count'].apply(np.isreal)]"
   ]
  },
  {
   "cell_type": "markdown",
   "id": "ab845fcc",
   "metadata": {},
   "source": [
    "Удалим эти строки и снова изменим тип столбца `Blue_activity_count`"
   ]
  },
  {
   "cell_type": "code",
   "execution_count": 43,
   "id": "0939a6b2",
   "metadata": {},
   "outputs": [],
   "source": [
    "data = data[~(data['Blue_activity_count'].apply(np.isreal))]\n",
    "data['Blue_activity_count'] = pd.to_numeric(data['Blue_activity_count'])"
   ]
  },
  {
   "cell_type": "markdown",
   "id": "6dd3b76b",
   "metadata": {},
   "source": [
    "Аналогично сделаем с `Black_gvm_order_count` и `Green_gvm_order_count`"
   ]
  },
  {
   "cell_type": "code",
   "execution_count": 44,
   "id": "20bf8db3",
   "metadata": {},
   "outputs": [
    {
     "data": {
      "text/html": [
       "<div>\n",
       "<style scoped>\n",
       "    .dataframe tbody tr th:only-of-type {\n",
       "        vertical-align: middle;\n",
       "    }\n",
       "\n",
       "    .dataframe tbody tr th {\n",
       "        vertical-align: top;\n",
       "    }\n",
       "\n",
       "    .dataframe thead th {\n",
       "        text-align: right;\n",
       "    }\n",
       "</style>\n",
       "<table border=\"1\" class=\"dataframe\">\n",
       "  <thead>\n",
       "    <tr style=\"text-align: right;\">\n",
       "      <th></th>\n",
       "      <th>HID</th>\n",
       "      <th>active_Red</th>\n",
       "      <th>has_Green_id</th>\n",
       "      <th>has_Black_id</th>\n",
       "      <th>has_Blue_id</th>\n",
       "      <th>Blue_activity_count</th>\n",
       "      <th>Blue_gmv_total</th>\n",
       "      <th>Green_gvm_total</th>\n",
       "      <th>Green_gvm_order_count</th>\n",
       "      <th>Black_gvm_total</th>\n",
       "      <th>Black_gvm_order_count</th>\n",
       "      <th>Red_android</th>\n",
       "      <th>Green_android</th>\n",
       "      <th>Black_android</th>\n",
       "      <th>Blue_android</th>\n",
       "      <th>Red_apple</th>\n",
       "      <th>Green_apple</th>\n",
       "      <th>Black_apple</th>\n",
       "      <th>Blue_apple</th>\n",
       "      <th>is_msk</th>\n",
       "      <th>Red_web</th>\n",
       "      <th>Green_web</th>\n",
       "      <th>Black_web</th>\n",
       "      <th>Blue_web</th>\n",
       "    </tr>\n",
       "  </thead>\n",
       "  <tbody>\n",
       "    <tr>\n",
       "      <th>30040</th>\n",
       "      <td>0bfc8cbc3d25bb2555b33c63ec3350febb</td>\n",
       "      <td>1.0</td>\n",
       "      <td>False</td>\n",
       "      <td>True</td>\n",
       "      <td>True</td>\n",
       "      <td>0.0</td>\n",
       "      <td>0.0</td>\n",
       "      <td>0.0</td>\n",
       "      <td>0.0</td>\n",
       "      <td>3740.0</td>\n",
       "      <td>2019-05-02 00:00:00</td>\n",
       "      <td>True</td>\n",
       "      <td>False</td>\n",
       "      <td>True</td>\n",
       "      <td>False</td>\n",
       "      <td>False</td>\n",
       "      <td>False</td>\n",
       "      <td>False</td>\n",
       "      <td>False</td>\n",
       "      <td>0.0</td>\n",
       "      <td>True</td>\n",
       "      <td>False</td>\n",
       "      <td>True</td>\n",
       "      <td>True</td>\n",
       "    </tr>\n",
       "    <tr>\n",
       "      <th>46736</th>\n",
       "      <td>110e2516ebbcf337b7337325fc1839de08</td>\n",
       "      <td>1.0</td>\n",
       "      <td>False</td>\n",
       "      <td>True</td>\n",
       "      <td>False</td>\n",
       "      <td>0.0</td>\n",
       "      <td>0.0</td>\n",
       "      <td>0.0</td>\n",
       "      <td>0.0</td>\n",
       "      <td>3166.0</td>\n",
       "      <td>2019-05-02 00:00:00</td>\n",
       "      <td>False</td>\n",
       "      <td>False</td>\n",
       "      <td>False</td>\n",
       "      <td>False</td>\n",
       "      <td>False</td>\n",
       "      <td>False</td>\n",
       "      <td>False</td>\n",
       "      <td>False</td>\n",
       "      <td>0.0</td>\n",
       "      <td>True</td>\n",
       "      <td>False</td>\n",
       "      <td>False</td>\n",
       "      <td>True</td>\n",
       "    </tr>\n",
       "    <tr>\n",
       "      <th>95337</th>\n",
       "      <td>33b0ffc0ee7e125bb6253ddb7b353f253b5</td>\n",
       "      <td>1.0</td>\n",
       "      <td>False</td>\n",
       "      <td>True</td>\n",
       "      <td>False</td>\n",
       "      <td>0.0</td>\n",
       "      <td>0.0</td>\n",
       "      <td>0.0</td>\n",
       "      <td>0.0</td>\n",
       "      <td>12182.0</td>\n",
       "      <td>2019-05-06 00:00:00</td>\n",
       "      <td>False</td>\n",
       "      <td>False</td>\n",
       "      <td>False</td>\n",
       "      <td>False</td>\n",
       "      <td>False</td>\n",
       "      <td>False</td>\n",
       "      <td>False</td>\n",
       "      <td>False</td>\n",
       "      <td>0.0</td>\n",
       "      <td>True</td>\n",
       "      <td>False</td>\n",
       "      <td>True</td>\n",
       "      <td>True</td>\n",
       "    </tr>\n",
       "  </tbody>\n",
       "</table>\n",
       "</div>"
      ],
      "text/plain": [
       "                                       HID  active_Red  has_Green_id  \\\n",
       "30040   0bfc8cbc3d25bb2555b33c63ec3350febb         1.0         False   \n",
       "46736   110e2516ebbcf337b7337325fc1839de08         1.0         False   \n",
       "95337  33b0ffc0ee7e125bb6253ddb7b353f253b5         1.0         False   \n",
       "\n",
       "       has_Black_id  has_Blue_id  Blue_activity_count  Blue_gmv_total  \\\n",
       "30040          True         True                  0.0             0.0   \n",
       "46736          True        False                  0.0             0.0   \n",
       "95337          True        False                  0.0             0.0   \n",
       "\n",
       "       Green_gvm_total Green_gvm_order_count  Black_gvm_total  \\\n",
       "30040              0.0                   0.0           3740.0   \n",
       "46736              0.0                   0.0           3166.0   \n",
       "95337              0.0                   0.0          12182.0   \n",
       "\n",
       "      Black_gvm_order_count  Red_android  Green_android  Black_android  \\\n",
       "30040   2019-05-02 00:00:00         True          False           True   \n",
       "46736   2019-05-02 00:00:00        False          False          False   \n",
       "95337   2019-05-06 00:00:00        False          False          False   \n",
       "\n",
       "       Blue_android  Red_apple  Green_apple  Black_apple  Blue_apple  is_msk  \\\n",
       "30040         False      False        False        False       False     0.0   \n",
       "46736         False      False        False        False       False     0.0   \n",
       "95337         False      False        False        False       False     0.0   \n",
       "\n",
       "       Red_web  Green_web  Black_web  Blue_web  \n",
       "30040     True      False       True      True  \n",
       "46736     True      False      False      True  \n",
       "95337     True      False       True      True  "
      ]
     },
     "execution_count": 44,
     "metadata": {},
     "output_type": "execute_result"
    }
   ],
   "source": [
    "data[data['Black_gvm_order_count'].apply(np.isreal)]"
   ]
  },
  {
   "cell_type": "code",
   "execution_count": 45,
   "id": "80174175",
   "metadata": {},
   "outputs": [],
   "source": [
    "data = data[~(data['Black_gvm_order_count'].apply(np.isreal))]\n",
    "data['Black_gvm_order_count'] = pd.to_numeric(data['Black_gvm_order_count'])"
   ]
  },
  {
   "cell_type": "code",
   "execution_count": 46,
   "id": "017545ff",
   "metadata": {},
   "outputs": [
    {
     "data": {
      "text/html": [
       "<div>\n",
       "<style scoped>\n",
       "    .dataframe tbody tr th:only-of-type {\n",
       "        vertical-align: middle;\n",
       "    }\n",
       "\n",
       "    .dataframe tbody tr th {\n",
       "        vertical-align: top;\n",
       "    }\n",
       "\n",
       "    .dataframe thead th {\n",
       "        text-align: right;\n",
       "    }\n",
       "</style>\n",
       "<table border=\"1\" class=\"dataframe\">\n",
       "  <thead>\n",
       "    <tr style=\"text-align: right;\">\n",
       "      <th></th>\n",
       "      <th>HID</th>\n",
       "      <th>active_Red</th>\n",
       "      <th>has_Green_id</th>\n",
       "      <th>has_Black_id</th>\n",
       "      <th>has_Blue_id</th>\n",
       "      <th>Blue_activity_count</th>\n",
       "      <th>Blue_gmv_total</th>\n",
       "      <th>Green_gvm_total</th>\n",
       "      <th>Green_gvm_order_count</th>\n",
       "      <th>Black_gvm_total</th>\n",
       "      <th>Black_gvm_order_count</th>\n",
       "      <th>Red_android</th>\n",
       "      <th>Green_android</th>\n",
       "      <th>Black_android</th>\n",
       "      <th>Blue_android</th>\n",
       "      <th>Red_apple</th>\n",
       "      <th>Green_apple</th>\n",
       "      <th>Black_apple</th>\n",
       "      <th>Blue_apple</th>\n",
       "      <th>is_msk</th>\n",
       "      <th>Red_web</th>\n",
       "      <th>Green_web</th>\n",
       "      <th>Black_web</th>\n",
       "      <th>Blue_web</th>\n",
       "    </tr>\n",
       "  </thead>\n",
       "  <tbody>\n",
       "    <tr>\n",
       "      <th>1633</th>\n",
       "      <td>0096b565be05dbe3e60e6810f3cb6b38</td>\n",
       "      <td>1.0</td>\n",
       "      <td>True</td>\n",
       "      <td>False</td>\n",
       "      <td>True</td>\n",
       "      <td>0.0</td>\n",
       "      <td>0.0</td>\n",
       "      <td>4330.0</td>\n",
       "      <td>2019-05-04 00:00:00</td>\n",
       "      <td>0.0</td>\n",
       "      <td>0.0</td>\n",
       "      <td>True</td>\n",
       "      <td>True</td>\n",
       "      <td>False</td>\n",
       "      <td>True</td>\n",
       "      <td>False</td>\n",
       "      <td>False</td>\n",
       "      <td>False</td>\n",
       "      <td>False</td>\n",
       "      <td>1.0</td>\n",
       "      <td>True</td>\n",
       "      <td>False</td>\n",
       "      <td>False</td>\n",
       "      <td>False</td>\n",
       "    </tr>\n",
       "    <tr>\n",
       "      <th>62820</th>\n",
       "      <td>16ee996903d01e10e5c058bb17e6b8fb</td>\n",
       "      <td>0.0</td>\n",
       "      <td>True</td>\n",
       "      <td>False</td>\n",
       "      <td>True</td>\n",
       "      <td>1.0</td>\n",
       "      <td>16.0</td>\n",
       "      <td>2918.0</td>\n",
       "      <td>2019-05-04 00:00:00</td>\n",
       "      <td>0.0</td>\n",
       "      <td>0.0</td>\n",
       "      <td>True</td>\n",
       "      <td>True</td>\n",
       "      <td>False</td>\n",
       "      <td>True</td>\n",
       "      <td>False</td>\n",
       "      <td>False</td>\n",
       "      <td>False</td>\n",
       "      <td>False</td>\n",
       "      <td>1.0</td>\n",
       "      <td>True</td>\n",
       "      <td>False</td>\n",
       "      <td>False</td>\n",
       "      <td>False</td>\n",
       "    </tr>\n",
       "    <tr>\n",
       "      <th>99338</th>\n",
       "      <td>325193deb3d325d259d17dcb3fe95bb59025</td>\n",
       "      <td>0.0</td>\n",
       "      <td>True</td>\n",
       "      <td>False</td>\n",
       "      <td>True</td>\n",
       "      <td>2.0</td>\n",
       "      <td>0.0</td>\n",
       "      <td>2272.0</td>\n",
       "      <td>2019-05-02 00:00:00</td>\n",
       "      <td>0.0</td>\n",
       "      <td>0.0</td>\n",
       "      <td>True</td>\n",
       "      <td>True</td>\n",
       "      <td>False</td>\n",
       "      <td>True</td>\n",
       "      <td>False</td>\n",
       "      <td>False</td>\n",
       "      <td>False</td>\n",
       "      <td>False</td>\n",
       "      <td>1.0</td>\n",
       "      <td>True</td>\n",
       "      <td>False</td>\n",
       "      <td>True</td>\n",
       "      <td>True</td>\n",
       "    </tr>\n",
       "  </tbody>\n",
       "</table>\n",
       "</div>"
      ],
      "text/plain": [
       "                                        HID  active_Red  has_Green_id  \\\n",
       "1633       0096b565be05dbe3e60e6810f3cb6b38         1.0          True   \n",
       "62820      16ee996903d01e10e5c058bb17e6b8fb         0.0          True   \n",
       "99338  325193deb3d325d259d17dcb3fe95bb59025         0.0          True   \n",
       "\n",
       "       has_Black_id  has_Blue_id  Blue_activity_count  Blue_gmv_total  \\\n",
       "1633          False         True                  0.0             0.0   \n",
       "62820         False         True                  1.0            16.0   \n",
       "99338         False         True                  2.0             0.0   \n",
       "\n",
       "       Green_gvm_total Green_gvm_order_count  Black_gvm_total  \\\n",
       "1633            4330.0   2019-05-04 00:00:00              0.0   \n",
       "62820           2918.0   2019-05-04 00:00:00              0.0   \n",
       "99338           2272.0   2019-05-02 00:00:00              0.0   \n",
       "\n",
       "       Black_gvm_order_count  Red_android  Green_android  Black_android  \\\n",
       "1633                     0.0         True           True          False   \n",
       "62820                    0.0         True           True          False   \n",
       "99338                    0.0         True           True          False   \n",
       "\n",
       "       Blue_android  Red_apple  Green_apple  Black_apple  Blue_apple  is_msk  \\\n",
       "1633           True      False        False        False       False     1.0   \n",
       "62820          True      False        False        False       False     1.0   \n",
       "99338          True      False        False        False       False     1.0   \n",
       "\n",
       "       Red_web  Green_web  Black_web  Blue_web  \n",
       "1633      True      False      False     False  \n",
       "62820     True      False      False     False  \n",
       "99338     True      False       True      True  "
      ]
     },
     "execution_count": 46,
     "metadata": {},
     "output_type": "execute_result"
    }
   ],
   "source": [
    "data[data['Green_gvm_order_count'].apply(np.isreal)]"
   ]
  },
  {
   "cell_type": "code",
   "execution_count": 47,
   "id": "e9d2d3d5",
   "metadata": {},
   "outputs": [],
   "source": [
    "data = data[~(data['Green_gvm_order_count'].apply(np.isreal))]\n",
    "data['Green_gvm_order_count'] = pd.to_numeric(data['Green_gvm_order_count'])"
   ]
  },
  {
   "cell_type": "code",
   "execution_count": 48,
   "id": "f110e69d",
   "metadata": {},
   "outputs": [
    {
     "name": "stdout",
     "output_type": "stream",
     "text": [
      "(99986, 24)\n"
     ]
    },
    {
     "data": {
      "text/plain": [
       "HID                       object\n",
       "active_Red               float64\n",
       "has_Green_id                bool\n",
       "has_Black_id                bool\n",
       "has_Blue_id                 bool\n",
       "Blue_activity_count      float64\n",
       "Blue_gmv_total           float64\n",
       "Green_gvm_total          float64\n",
       "Green_gvm_order_count    float64\n",
       "Black_gvm_total          float64\n",
       "Black_gvm_order_count    float64\n",
       "Red_android                 bool\n",
       "Green_android               bool\n",
       "Black_android               bool\n",
       "Blue_android                bool\n",
       "Red_apple                   bool\n",
       "Green_apple                 bool\n",
       "Black_apple                 bool\n",
       "Blue_apple                  bool\n",
       "is_msk                   float64\n",
       "Red_web                     bool\n",
       "Green_web                   bool\n",
       "Black_web                   bool\n",
       "Blue_web                    bool\n",
       "dtype: object"
      ]
     },
     "execution_count": 48,
     "metadata": {},
     "output_type": "execute_result"
    }
   ],
   "source": [
    "print(data.shape)\n",
    "data.dtypes"
   ]
  },
  {
   "cell_type": "markdown",
   "id": "c2f6adb7",
   "metadata": {},
   "source": [
    "Пришлось убрать данные о 14 пользователях, что может сказаться на выводы. Нужно передать о некорректости этих данных.\n",
    "\n",
    "#### 2.4 Изменим названия колонок\n",
    "\n",
    "`active_Red` изменим на `has_Red_id`, данные схожи, но нужно было бы уточнить.\\\n",
    "`Blue_activity_count` изменим на `Blue_gvm_order_count`\\\n",
    "`Black_gvm_total` изменим на `Black_gmv_total`\\\n",
    "`Green_gvm_total` изменим на `Green_gmv_total`"
   ]
  },
  {
   "cell_type": "code",
   "execution_count": 79,
   "id": "3b0b7d13",
   "metadata": {},
   "outputs": [],
   "source": [
    "data.rename(columns = {\"active_Red\" : \"has_Red_id\", \"Blue_activity_count\" : \"Blue_gvm_order_count\",\n",
    "                       \"Black_gvm_total\" : \"Black_gmv_total\", \"Green_gvm_total\" : \"Green_gmv_total\"}, inplace = True)\n",
    "data['has_Red_id'] = data['has_Red_id'].astype('bool')"
   ]
  },
  {
   "cell_type": "code",
   "execution_count": 50,
   "id": "dec2bd8c",
   "metadata": {},
   "outputs": [
    {
     "data": {
      "text/plain": [
       "Index(['Black_android', 'Black_apple', 'Black_gvm_order_count',\n",
       "       'Black_gvm_total', 'Black_web', 'Blue_android', 'Blue_apple',\n",
       "       'Blue_gmv_total', 'Blue_gvm_order_count', 'Blue_web', 'Green_android',\n",
       "       'Green_apple', 'Green_gvm_order_count', 'Green_gvm_total', 'Green_web',\n",
       "       'HID', 'Red_android', 'Red_apple', 'Red_web', 'has_Black_id',\n",
       "       'has_Blue_id', 'has_Green_id', 'has_Red_id', 'is_msk'],\n",
       "      dtype='object')"
      ]
     },
     "execution_count": 50,
     "metadata": {},
     "output_type": "execute_result"
    }
   ],
   "source": [
    "data.columns.sort_values()"
   ]
  },
  {
   "cell_type": "markdown",
   "id": "7765470f",
   "metadata": {},
   "source": [
    "#### 2.5 Проверим аномальные значения"
   ]
  },
  {
   "cell_type": "code",
   "execution_count": 51,
   "id": "eff53562",
   "metadata": {},
   "outputs": [
    {
     "name": "stdout",
     "output_type": "stream",
     "text": [
      "Пользователей компании Blue: 13254\n",
      "Пользователей компании Blue, использующих android: 8041\n",
      "Пользователей компании Blue, использующих apple: 4645\n",
      "Пользователей компании Blue, использующих PC: 10631\n",
      "\n",
      "Пользователей компании Green: 882\n",
      "Пользователей компании Green, использующих android: 543\n",
      "Пользователей компании Green, использующих apple: 616\n",
      "Пользователей компании Green, использующих PC: 198\n",
      "\n",
      "Пользователей компании Black: 1076\n",
      "Пользователей компании Black, использующих android: 1076\n",
      "Пользователей компании Black, использующих apple: 1782\n",
      "Пользователей компании Black, использующих PC: 1458\n",
      "\n",
      "Пользователей компании Red: 55864\n",
      "Пользователей компании Red, использующих android: 32125\n",
      "Пользователей компании Red, использующих apple: 10873\n",
      "Пользователей компании Red, использующих PC: 67095\n"
     ]
    }
   ],
   "source": [
    "print(\"Пользователей компании Blue:\", data['has_Blue_id'].sum())\n",
    "print(\"Пользователей компании Blue, использующих android:\", data['Blue_android'].sum())\n",
    "print(\"Пользователей компании Blue, использующих apple:\", data['Blue_apple'].sum())\n",
    "print(\"Пользователей компании Blue, использующих PC:\", data['Blue_web'].sum())\n",
    "print()\n",
    "print(\"Пользователей компании Green:\", data['has_Green_id'].sum())\n",
    "print(\"Пользователей компании Green, использующих android:\", data['Green_android'].sum())\n",
    "print(\"Пользователей компании Green, использующих apple:\", data['Green_apple'].sum())\n",
    "print(\"Пользователей компании Green, использующих PC:\", data['Green_web'].sum())\n",
    "print()\n",
    "print(\"Пользователей компании Black:\", data['has_Black_id'].sum())\n",
    "print(\"Пользователей компании Black, использующих android:\", data['Black_android'].sum())\n",
    "print(\"Пользователей компании Black, использующих apple:\", data['Black_apple'].sum())\n",
    "print(\"Пользователей компании Black, использующих PC:\", data['Black_web'].sum())\n",
    "print()\n",
    "print(\"Пользователей компании Red:\", data['has_Red_id'].sum())\n",
    "print(\"Пользователей компании Red, использующих android:\", data['Red_android'].sum())\n",
    "print(\"Пользователей компании Red, использующих apple:\", data['Red_apple'].sum())\n",
    "print(\"Пользователей компании Red, использующих PC:\", data['Red_web'].sum())"
   ]
  },
  {
   "cell_type": "markdown",
   "id": "2ab47a57",
   "metadata": {},
   "source": [
    "В компании Black и Red пользователей PC больше чем активных пользователей, чего быть не может, следовательно в данных ошибка. Изменим has_company_id на 0, если есть хотя бы одна 1 среди android, apple или web."
   ]
  },
  {
   "cell_type": "code",
   "execution_count": 52,
   "id": "e3c45286",
   "metadata": {},
   "outputs": [],
   "source": [
    "def change_company_id(row):\n",
    "    colors = ['Blue', 'Green', 'Black', 'Red']\n",
    "    for color in colors:\n",
    "        filt = [f'has_{color}_id', f'{color}_android', f'{color}_apple', f'{color}_web']\n",
    "        if(not row[filt[0]] and (row[filt[1]] or row[filt[2]] or row[filt[3]])):\n",
    "            row[filt[0]] = True\n",
    "    return row\n",
    "data = data.apply(lambda row: change_company_id(row), axis=1)"
   ]
  },
  {
   "cell_type": "markdown",
   "id": "36c7a869",
   "metadata": {},
   "source": [
    "#### 2.6 Изучим неявные дубликаты\n",
    "\n",
    "Неявных дубликатов нету, т.к. все данные числовые и `HID` не повторяется.\n",
    "\n",
    "# 3 Анализ\n",
    "\n",
    "#### 3.1 Чем больше пользователей, тем успешнее сервис (больше GMV)"
   ]
  },
  {
   "cell_type": "code",
   "execution_count": 53,
   "id": "d50ffa6b",
   "metadata": {
    "scrolled": false
   },
   "outputs": [
    {
     "name": "stdout",
     "output_type": "stream",
     "text": [
      "Пользователей компании Blue: 27696\n",
      "Пользователей компании Blue, использующих android: 8041\n",
      "Пользователей компании Blue, использующих apple: 4645\n",
      "Пользователей компании Blue, использующих PC: 10631\n",
      "\n",
      "Пользователей компании Green: 1783\n",
      "Пользователей компании Green, использующих android: 543\n",
      "Пользователей компании Green, использующих apple: 616\n",
      "Пользователей компании Green, использующих PC: 198\n",
      "\n",
      "Пользователей компании Black: 4499\n",
      "Пользователей компании Black, использующих android: 1076\n",
      "Пользователей компании Black, использующих apple: 1782\n",
      "Пользователей компании Black, использующих PC: 1458\n",
      "\n",
      "Пользователей компании Red: 81255\n",
      "Пользователей компании Red, использующих android: 32125\n",
      "Пользователей компании Red, использующих apple: 10873\n",
      "Пользователей компании Red, использующих PC: 67095\n"
     ]
    }
   ],
   "source": [
    "print(\"Пользователей компании Blue:\", data['has_Blue_id'].sum())\n",
    "print(\"Пользователей компании Blue, использующих android:\", data['Blue_android'].sum())\n",
    "print(\"Пользователей компании Blue, использующих apple:\", data['Blue_apple'].sum())\n",
    "print(\"Пользователей компании Blue, использующих PC:\", data['Blue_web'].sum())\n",
    "print()\n",
    "print(\"Пользователей компании Green:\", data['has_Green_id'].sum())\n",
    "print(\"Пользователей компании Green, использующих android:\", data['Green_android'].sum())\n",
    "print(\"Пользователей компании Green, использующих apple:\", data['Green_apple'].sum())\n",
    "print(\"Пользователей компании Green, использующих PC:\", data['Green_web'].sum())\n",
    "print()\n",
    "print(\"Пользователей компании Black:\", data['has_Black_id'].sum())\n",
    "print(\"Пользователей компании Black, использующих android:\", data['Black_android'].sum())\n",
    "print(\"Пользователей компании Black, использующих apple:\", data['Black_apple'].sum())\n",
    "print(\"Пользователей компании Black, использующих PC:\", data['Black_web'].sum())\n",
    "print()\n",
    "print(\"Пользователей компании Red:\", data['has_Red_id'].sum())\n",
    "print(\"Пользователей компании Red, использующих android:\", data['Red_android'].sum())\n",
    "print(\"Пользователей компании Red, использующих apple:\", data['Red_apple'].sum())\n",
    "print(\"Пользователей компании Red, использующих PC:\", data['Red_web'].sum())"
   ]
  },
  {
   "cell_type": "markdown",
   "id": "cd3850f6",
   "metadata": {},
   "source": [
    "Проверим гипотезу, что компании с большим кол-вом активных пользователей более успешные. Проблема, что данных по компании Red почти нету, т.к. отсутствуют столбцы `Red_gmv_total` и `Red_gvm_order_count`. Придется убрать из анализа эту компанию. "
   ]
  },
  {
   "cell_type": "code",
   "execution_count": 80,
   "id": "264b6d37",
   "metadata": {},
   "outputs": [
    {
     "data": {
      "text/plain": [
       "(30176, 20)"
      ]
     },
     "execution_count": 80,
     "metadata": {},
     "output_type": "execute_result"
    }
   ],
   "source": [
    "df_without_red = data.query(\"has_Green_id or has_Black_id or has_Blue_id\").copy()\n",
    "df_without_red.drop([\"has_Red_id\", \"Red_android\", \"Red_apple\", \"Red_web\"], axis= 1 , inplace= True)\n",
    "df_without_red.shape"
   ]
  },
  {
   "cell_type": "markdown",
   "id": "bb4f5ff4",
   "metadata": {},
   "source": [
    "Кол-во пользователей сократилось больше чем втрое. Необходимо сообщить о компании Red."
   ]
  },
  {
   "cell_type": "code",
   "execution_count": 84,
   "id": "aec0bb82",
   "metadata": {},
   "outputs": [
    {
     "name": "stdout",
     "output_type": "stream",
     "text": [
      "246098.0\n"
     ]
    },
    {
     "data": {
      "text/plain": [
       "count    30176.000000\n",
       "mean         8.155422\n",
       "std        230.500680\n",
       "min          0.000000\n",
       "25%          0.000000\n",
       "50%          0.000000\n",
       "75%          0.000000\n",
       "max      32302.000000\n",
       "Name: Blue_gmv_total, dtype: float64"
      ]
     },
     "execution_count": 84,
     "metadata": {},
     "output_type": "execute_result"
    }
   ],
   "source": [
    "print(df_without_red['Blue_gmv_total'].sum())\n",
    "df_without_red['Blue_gmv_total'].describe()"
   ]
  },
  {
   "cell_type": "code",
   "execution_count": 85,
   "id": "8e03c9a8",
   "metadata": {},
   "outputs": [
    {
     "name": "stdout",
     "output_type": "stream",
     "text": [
      "9468220.0\n"
     ]
    },
    {
     "data": {
      "text/plain": [
       "count     30176.000000\n",
       "mean        313.766569\n",
       "std        3081.643748\n",
       "min           0.000000\n",
       "25%           0.000000\n",
       "50%           0.000000\n",
       "75%           0.000000\n",
       "max      188252.000000\n",
       "Name: Black_gmv_total, dtype: float64"
      ]
     },
     "execution_count": 85,
     "metadata": {},
     "output_type": "execute_result"
    }
   ],
   "source": [
    "print(df_without_red['Black_gmv_total'].sum())\n",
    "df_without_red['Black_gmv_total'].describe()"
   ]
  },
  {
   "cell_type": "code",
   "execution_count": 86,
   "id": "c4580dd5",
   "metadata": {},
   "outputs": [
    {
     "name": "stdout",
     "output_type": "stream",
     "text": [
      "5983080.0\n"
     ]
    },
    {
     "data": {
      "text/plain": [
       "count    30176.000000\n",
       "mean       198.272800\n",
       "std       2233.980521\n",
       "min          0.000000\n",
       "25%          0.000000\n",
       "50%          0.000000\n",
       "75%          0.000000\n",
       "max      94106.000000\n",
       "Name: Green_gmv_total, dtype: float64"
      ]
     },
     "execution_count": 86,
     "metadata": {},
     "output_type": "execute_result"
    }
   ],
   "source": [
    "print(df_without_red['Green_gmv_total'].sum())\n",
    "df_without_red['Green_gmv_total'].describe()"
   ]
  },
  {
   "cell_type": "markdown",
   "id": "bf071415",
   "metadata": {},
   "source": [
    "Несмотря на то, что компания Blue самая большая по кол-ву пользователей (за исключением Red), в ней самая маленькая сумма GMV и средний показатель на одного пользователя. Значит у Blue пользователи не готовы покупать товары, ей нужно посмотреть почему пользователи не покупают ничего. Самая успешная компания Black с самым большим средним GMV на пользователя. \n",
    "\n",
    "Вывод: по имеющимся данным мы не можем сказать, что чем больше пользователей, тем более успешный сервис. Компании Blue следует проанализировать, почему ее пользователи не готовы покупать на сайте. Также следует исправить данные о компании Red. \n",
    "\n",
    "#### 3.2 Пользователи из Москвы имеют большую ценность для компаний. "
   ]
  },
  {
   "cell_type": "code",
   "execution_count": 93,
   "id": "9d46fd81",
   "metadata": {},
   "outputs": [],
   "source": [
    "df_is_msk = df_without_red.query(\"is_msk == 1\").copy()\n",
    "df_not_msk = df_without_red.query(\"is_msk == 0\").copy()"
   ]
  },
  {
   "cell_type": "code",
   "execution_count": 97,
   "id": "accd4ab8",
   "metadata": {},
   "outputs": [],
   "source": [
    "df_is_msk[\"total_gmv\"] = df_is_msk[\"Black_gmv_total\"] + df_is_msk[\"Green_gmv_total\"] + df_is_msk[\"Blue_gmv_total\"]\n",
    "df_not_msk[\"total_gmv\"] = df_not_msk[\"Black_gmv_total\"] + df_not_msk[\"Green_gmv_total\"] + df_not_msk[\"Blue_gmv_total\"]"
   ]
  },
  {
   "cell_type": "code",
   "execution_count": 118,
   "id": "92432187",
   "metadata": {},
   "outputs": [
    {
     "data": {
      "text/plain": [
       "count     24478.000000\n",
       "mean        258.090939\n",
       "std        2719.130168\n",
       "min           0.000000\n",
       "25%           0.000000\n",
       "50%           0.000000\n",
       "75%           0.000000\n",
       "max      188252.000000\n",
       "Name: total_gmv, dtype: float64"
      ]
     },
     "execution_count": 118,
     "metadata": {},
     "output_type": "execute_result"
    }
   ],
   "source": [
    "df_not_msk['total_gmv'].describe()"
   ]
  },
  {
   "cell_type": "code",
   "execution_count": 117,
   "id": "ecbd5349",
   "metadata": {},
   "outputs": [
    {
     "data": {
      "text/plain": [
       "count      5698.000000\n",
       "mean       1646.164970\n",
       "std        7054.764891\n",
       "min           0.000000\n",
       "25%           0.000000\n",
       "50%           0.000000\n",
       "75%           0.000000\n",
       "max      118074.000000\n",
       "Name: total_gmv, dtype: float64"
      ]
     },
     "execution_count": 117,
     "metadata": {},
     "output_type": "execute_result"
    }
   ],
   "source": [
    "df_is_msk['total_gmv'].describe()"
   ]
  },
  {
   "cell_type": "markdown",
   "id": "4de33678",
   "metadata": {},
   "source": [
    "Заметим, что среднее на пользователя в Москве в 6.5 раз выше, даже с учетом, что максимальное выше не в Москве. Т.е. люди в Москве более платежноспособные и компании с них получают больше. \n",
    "\n",
    "#### 3.3 Корреляция кол-ва заказов и их GMV"
   ]
  },
  {
   "cell_type": "code",
   "execution_count": 143,
   "id": "edf83657",
   "metadata": {},
   "outputs": [
    {
     "data": {
      "image/png": "[encoded data removed]",
      "text/plain": [
       "<Figure size 640x480 with 1 Axes>"
      ]
     },
     "metadata": {},
     "output_type": "display_data"
    }
   ],
   "source": [
    "sns.barplot(data = df_without_red, width = 1, x = 'Blue_gvm_order_count', y = 'Blue_gmv_total', palette = 'hls')\n",
    "plt.xticks(rotation=90)\n",
    "plt.show()"
   ]
  },
  {
   "cell_type": "code",
   "execution_count": 142,
   "id": "996c78f6",
   "metadata": {},
   "outputs": [
    {
     "data": {
      "image/png": "[encoded data removed]",
      "text/plain": [
       "<Figure size 640x480 with 1 Axes>"
      ]
     },
     "metadata": {},
     "output_type": "display_data"
    }
   ],
   "source": [
    "sns.barplot(data = df_without_red, width = 1, x = 'Black_gvm_order_count', y = 'Black_gmv_total', palette = 'hls')\n",
    "plt.xticks(rotation=90)\n",
    "plt.show()"
   ]
  },
  {
   "cell_type": "code",
   "execution_count": 141,
   "id": "1bb225c8",
   "metadata": {},
   "outputs": [
    {
     "data": {
      "image/png": "[encoded data removed]",
      "text/plain": [
       "<Figure size 640x480 with 1 Axes>"
      ]
     },
     "metadata": {},
     "output_type": "display_data"
    }
   ],
   "source": [
    "sns.barplot(data = df_without_red, width = 1, x = 'Green_gvm_order_count', y = 'Green_gmv_total', palette = 'hls')\n",
    "plt.xticks(rotation=90)\n",
    "plt.show()"
   ]
  },
  {
   "cell_type": "markdown",
   "id": "364dde41",
   "metadata": {},
   "source": [
    "У компаний Green и Black прослеживается корреляция между кол-вом и суммарным GMV. У компании Blue не прослеживается эта корреляция, видно что компания держится на клиентах с большим кол-вом заказов, что еще раз подтверждает, что компании Blue надо пересмотреть свои действия. "
   ]
  },
  {
   "cell_type": "markdown",
   "id": "0885babc",
   "metadata": {},
   "source": [
    "# 4 Выводы\n",
    "\n",
    "1. Данные не целые, нет основных данных о компании Red\n",
    "2. Есть ошибки в названии хранимых данных\n",
    "3. В компаниях не прослеживается корреляция кол-во пользователей и суммарный GMV, слишком мало данных\n",
    "4. Пользователи из Москвы представляют большую ценность для компаний\n",
    "5. Наблюдается корреляция кол-ва заказов и суммарным GMV\n",
    "6. Компания Blue имеет низкие показатели, ей требуется пересмотреть свои дейтсвия."
   ]
  }
 ],
 "metadata": {
  "kernelspec": {
   "display_name": "Python 3 (ipykernel)",
   "language": "python",
   "name": "python3"
  },
  "language_info": {
   "codemirror_mode": {
    "name": "ipython",
    "version": 3
   },
   "file_extension": ".py",
   "mimetype": "text/x-python",
   "name": "python",
   "nbconvert_exporter": "python",
   "pygments_lexer": "ipython3",
   "version": "3.10.6"
  }
 },
 "nbformat": 4,
 "nbformat_minor": 5
}
